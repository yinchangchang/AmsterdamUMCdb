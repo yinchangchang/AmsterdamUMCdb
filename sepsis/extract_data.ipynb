{
 "cells": [
  {
   "cell_type": "markdown",
   "metadata": {},
   "source": [
    "<img src=\"../../img/logo_amds.png\" alt=\"Logo\" style=\"width: 128px;\"/>\n",
    "\n",
    "# AmsterdamUMCdb - Freely Accessible ICU Database\n",
    "\n",
    "version 1.0.2 March 2020  \n",
    "Copyright &copy; 2003-2020 Amsterdam UMC - Amsterdam Medical Data Science"
   ]
  },
  {
   "cell_type": "markdown",
   "metadata": {},
   "source": [
    "## Sequential Organ Failure Assessment (SOFA)\n",
    "The sequential organ failure assessment score (SOFA score), originally published as as the Sepsis-related Organ Failure Assessment score ([Vincent et al., 1996](http://link.springer.com/10.1007/BF01709751)), is a disease severity score designed to track the severity of critical ilness throughout the ICU stay. In contrast to APACHE (II/IV), which only calculates a score for the first 24 hours, it can be used sequentially for every following day. The code performs some data cleanup and calculates the SOFA score for the first 24 hours of ICU admission for all patients in the database.\n",
    "\n",
    "**Note**: Requires creating the [dictionaries](../../dictionaries/create_dictionaries.ipynb) before running this notebook."
   ]
  },
  {
   "cell_type": "markdown",
   "metadata": {},
   "source": [
    "## Imports"
   ]
  },
  {
   "cell_type": "code",
   "execution_count": 1,
   "metadata": {},
   "outputs": [],
   "source": [
    "%matplotlib inline\n",
    "import amsterdamumcdb\n",
    "import psycopg2\n",
    "import pandas as pd\n",
    "import numpy as np\n",
    "import re\n",
    "\n",
    "import matplotlib.pyplot as plt\n",
    "import matplotlib.gridspec as gridspec\n",
    "import matplotlib as mpl\n",
    "\n",
    "import io\n",
    "from IPython.display import display, HTML, Markdown"
   ]
  },
  {
   "cell_type": "code",
   "execution_count": 2,
   "metadata": {},
   "outputs": [],
   "source": [
    "sofa = pd.read_csv('sofa/sofa.csv')\n",
    "oxy_flow = pd.read_csv(\"sofa/oxy_flow.csv\" )\n",
    "sofa_respiration = pd.read_csv(\"sofa/sofa_respiration.csv\" )\n",
    "sofa_platelets = pd.read_csv(\"sofa/sofa_platelets.csv\" )\n",
    "sofa_bilirubin = pd.read_csv(\"sofa/sofa_bilirubin.csv\" )\n",
    "sofa_cardiovascular = pd.read_csv(\"sofa/sofa_cardiovascular.csv\" )\n",
    "mean_abp = pd.read_csv(\"sofa/mean_abp.csv\" )\n",
    "sofa_cardiovascular_map = pd.read_csv(\"sofa/sofa_cardiovascular_map.csv\" )\n",
    "gcs = pd.read_csv(\"sofa/gcs.csv\" )\n",
    "sofa_cns = pd.read_csv(\"sofa/sofa_cns.csv\" )\n",
    "sofa_renal_urine_output = pd.read_csv(\"sofa/sofa_renal_urine_output.csv\" )\n",
    "sofa_renal_daily_urine_output = pd.read_csv(\"sofa/sofa_renal_daily_urine_output.csv\" )\n",
    "creatinine = pd.read_csv(\"sofa/creatinine.csv\" )\n",
    "sofa_renal_creatinine = pd.read_csv(\"sofa/sofa_renal_creatinine.csv\" )\n",
    "sofa_renal = pd.read_csv(\"sofa/sofa_renal.csv\" )"
   ]
  },
  {
   "cell_type": "code",
   "execution_count": null,
   "metadata": {},
   "outputs": [],
   "source": [
    "'''\n",
    "\n",
    "bloc,icustayid,charttime,gender,age,elixhauser,re_admission,died_in_hosp,died_within_48h_of_out_time,\n",
    "mortality_90d,delay_end_of_record_and_discharge_or_death,\n",
    "\n",
    "Weight_kg,GCS,HR,SysBP,MeanBP,DiaBP,RR,SpO2,Temp_C,FiO2_1,Potassium,Sodium,Chloride,Glucose,\n",
    "BUN,Creatinine,Magnesium,Calcium,Ionised_Ca,CO2_mEqL,SGOT,SGPT,Total_bili,Albumin,Hb,WBC_count,\n",
    "Platelets_count,PTT,PT,INR,Arterial_pH,paO2,paCO2,Arterial_BE,Arterial_lactate,HCO3,mechvent,\n",
    "Shock_Index,PaO2_FiO2,median_dose_vaso,max_dose_vaso,input_total,\n",
    "input_4hourly,output_total,output_4hourly,cumulated_balance,SOFA,SIRS\n",
    "\n",
    "'''"
   ]
  }
 ],
 "metadata": {
  "kernelspec": {
   "display_name": "Python 3",
   "language": "python",
   "name": "python3"
  },
  "language_info": {
   "codemirror_mode": {
    "name": "ipython",
    "version": 3
   },
   "file_extension": ".py",
   "mimetype": "text/x-python",
   "name": "python",
   "nbconvert_exporter": "python",
   "pygments_lexer": "ipython3",
   "version": "3.8.5"
  }
 },
 "nbformat": 4,
 "nbformat_minor": 2
}
