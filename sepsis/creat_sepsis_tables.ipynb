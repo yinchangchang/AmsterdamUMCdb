{
 "cells": [
  {
   "cell_type": "markdown",
   "metadata": {},
   "source": [
    "<img src=\"https://raw.githubusercontent.com/AmsterdamUMC/AmsterdamUMCdb/master/img/logo_amds.png\" alt=\"Logo\" style=\"width: 128px;\"/>\n",
    "\n",
    "# AmsterdamUMCdb Dictionaries\n",
    "\n",
    "Copyright &copy; 2003-2020 Amsterdam UMC - Amsterdam Medical Data Science"
   ]
  },
  {
   "cell_type": "markdown",
   "metadata": {},
   "source": [
    "# Dictionaries\n",
    "Creates lists of all available parameters. Especially useful in the data exploration phase. The Dutch version of [SNOMED CT](https://browser.ihtsdotools.org/) can be used as a starting point for (official) translations to English medical terms.\n",
    "\n",
    "**To do**: mapping with [SNOMED CT](https://browser.ihtsdotools.org/), [LOINC](https://search.loinc.org/searchLOINC/), etc."
   ]
  },
  {
   "cell_type": "markdown",
   "metadata": {},
   "source": [
    "## Imports"
   ]
  },
  {
   "cell_type": "code",
   "execution_count": 9,
   "metadata": {},
   "outputs": [],
   "source": [
    "%matplotlib inline\n",
    "import psycopg2\n",
    "import pandas as pd\n",
    "import numpy as np\n",
    "import re\n",
    "from tqdm import tqdm\n",
    "\n",
    "import matplotlib.pyplot as plt\n",
    "import matplotlib.gridspec as gridspec\n",
    "import matplotlib as mpl\n",
    "\n",
    "import io\n",
    "from IPython.display import display, HTML, Markdown"
   ]
  },
  {
   "cell_type": "markdown",
   "metadata": {},
   "source": [
    "## Display settings"
   ]
  },
  {
   "cell_type": "code",
   "execution_count": 4,
   "metadata": {},
   "outputs": [],
   "source": [
    "#matplotlib settings for image size\n",
    "#needs to be in a different cell from %matplotlib inline\n",
    "plt.style.use('seaborn-darkgrid')\n",
    "plt.rcParams[\"figure.dpi\"] = 288\n",
    "plt.rcParams[\"figure.figsize\"] = [16, 12]\n",
    "plt.rcParams[\"font.size\"] = 12\n",
    "\n",
    "pd.options.display.max_columns = None\n",
    "pd.options.display.max_rows = None\n",
    "pd.options.display.max_colwidth = 1000"
   ]
  },
  {
   "cell_type": "markdown",
   "metadata": {},
   "source": [
    "## Connection settings"
   ]
  },
  {
   "cell_type": "code",
   "execution_count": 5,
   "metadata": {},
   "outputs": [],
   "source": [
    "#Modify config.ini in the root folder of the repository to change the settings to connect to your postgreSQL database\n",
    "import configparser\n",
    "import os\n",
    "config = configparser.ConfigParser()\n",
    "\n",
    "if os.path.isfile('../config.ini'):\n",
    "    config.read('../config.ini')\n",
    "else:\n",
    "    config.read('../config.SAMPLE.ini')\n",
    "\n",
    "#Open a connection to the postgres database:\n",
    "con = psycopg2.connect(database=config['psycopg2']['database'], \n",
    "                       user=config['psycopg2']['username'], password=config['psycopg2']['password'], \n",
    "                       host=config['psycopg2']['host'], port=config['psycopg2']['port'])\n",
    "con.set_client_encoding('WIN1252') #Uses code page for Dutch accented characters.\n",
    "con.set_session(autocommit=True)\n",
    "\n",
    "cursor = con.cursor()\n",
    "cursor.execute('SET SCHEMA \\'amsterdamumcdb\\''); #set search_path to amsterdamumcdb schema"
   ]
  },
  {
   "cell_type": "code",
   "execution_count": 6,
   "metadata": {},
   "outputs": [],
   "source": [
    "# load sepsis cohort\n",
    "sepsis = pd.read_csv('../concepts/diagnosis/sepsis.csv')\n",
    "sepsis_admission_ids = list(sepsis.admissionid)\n",
    "sepsis_admission_ids = ','.join([str(a) for a in sepsis_admission_ids])"
   ]
  },
  {
   "cell_type": "code",
   "execution_count": 7,
   "metadata": {},
   "outputs": [
    {
     "name": "stdout",
     "output_type": "stream",
     "text": [
      "\n",
      "    SELECT * FROM procedureorderitems  \n",
      "    WHERE admissionid in (11,20,25,44,47,50,58,66,70,76,91,...\n",
      "procedureorderitems 580232\n",
      "\n",
      "    SELECT * FROM processitems  \n",
      "    WHERE admissionid in (11,20,25,44,47,50,58,66,70,76,91,94,99,1...\n",
      "processitems 44405\n"
     ]
    }
   ],
   "source": [
    "\n",
    "for table in 'admissions drugitems  freetextitems listitems procedureorderitems processitems'.split():\n",
    "    sql = '''\n",
    "    SELECT * FROM {:s}  \n",
    "    WHERE admissionid in ({:s})\n",
    "    '''.format(table, sepsis_admission_ids)\n",
    "    print(sql[:100] + '...')\n",
    "    sepsis_data = pd.read_sql(sql,con)\n",
    "    print(table, len(sepsis_data))\n",
    "    sepsis_data.to_csv('../data/sepsis_{:s}.csv'.format(table),index=False)"
   ]
  },
  {
   "cell_type": "code",
   "execution_count": 28,
   "metadata": {},
   "outputs": [
    {
     "name": "stderr",
     "output_type": "stream",
     "text": [
      " 98%|█████████▊| 98/100 [13:51<00:16,  8.48s/it]\n"
     ]
    },
    {
     "name": "stdout",
     "output_type": "stream",
     "text": [
      "194838488\n"
     ]
    }
   ],
   "source": [
    "sepsis = pd.read_csv('../concepts/diagnosis/sepsis.csv')\n",
    "sepsis_admission_ids = [str(a) for a in sepsis.admissionid]\n",
    "n = 100\n",
    "delta = int(len(sepsis_admission_ids) / n) + 1\n",
    "table = 'numericitems'\n",
    "df_list = []\n",
    "for i in tqdm(range(n)):\n",
    "    start = delta * i\n",
    "    end = start + delta\n",
    "    if start >= len(sepsis_admission_ids):\n",
    "        break\n",
    "    ids = ','.join(sepsis_admission_ids[start:end])\n",
    "    sql = '''\n",
    "    SELECT * FROM {:s}  \n",
    "    WHERE admissionid in ({:s})\n",
    "    '''.format(table, ids)\n",
    "    # print(sql[:100] + '...')\n",
    "    sepsis_data = pd.read_sql(sql,con)\n",
    "    # print(table, len(sepsis_data))\n",
    "    df_list.append(sepsis_data)\n",
    "    # if i >= 10:\n",
    "    #     break\n",
    "sepsis_data = pd.concat(df_list, ignore_index=True)\n",
    "print(len(sepsis_data))\n",
    "print('saving...')\n",
    "sepsis_data.to_csv('../data/sepsis_{:s}.csv'.format(table),index=False)\n",
    "print('end saving.')"
   ]
  },
  {
   "cell_type": "code",
   "execution_count": null,
   "metadata": {},
   "outputs": [],
   "source": []
  }
 ],
 "metadata": {
  "kernelspec": {
   "display_name": "Python 3",
   "language": "python",
   "name": "python3"
  },
  "language_info": {
   "codemirror_mode": {
    "name": "ipython",
    "version": 3
   },
   "file_extension": ".py",
   "mimetype": "text/x-python",
   "name": "python",
   "nbconvert_exporter": "python",
   "pygments_lexer": "ipython3",
   "version": "3.8.5"
  }
 },
 "nbformat": 4,
 "nbformat_minor": 2
}
