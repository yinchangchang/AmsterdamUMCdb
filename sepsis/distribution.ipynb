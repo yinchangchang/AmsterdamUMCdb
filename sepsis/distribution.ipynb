{
 "cells": [
  {
   "cell_type": "code",
   "execution_count": 1,
   "metadata": {},
   "outputs": [],
   "source": [
    "import pandas as pd\n",
    "from tqdm import tqdm \n",
    "import numpy as np\n",
    "\n"
   ]
  },
  {
   "cell_type": "code",
   "execution_count": 2,
   "metadata": {},
   "outputs": [
    {
     "name": "stderr",
     "output_type": "stream",
     "text": [
      "100%|██████████| 95867/95867 [00:03<00:00, 28349.03it/s]\n"
     ]
    },
    {
     "name": "stdout",
     "output_type": "stream",
     "text": [
      "[0.8995603697574511, 0.06073249419119737, 0.016470253915718033, 0.009342560553633217, 0.013894321582000234]\n"
     ]
    }
   ],
   "source": [
    "vaso = pd.read_csv('feature/vaso.csv')\n",
    "adm_time_vol_dict = dict()\n",
    "for i in tqdm(range(len(vaso))):\n",
    "    # print(vaso.loc[i, 'weightgroup'])\n",
    "    try:\n",
    "        if '110' in vaso.loc[i, 'weightgroup']:\n",
    "            weight = 115\n",
    "        else:\n",
    "            weight = int(vaso.loc[i, 'weightgroup'].split('-')[0]) + 5.0\n",
    "    except:\n",
    "        # print(vaso.loc[i, 'weightgroup'])\n",
    "        continue\n",
    "    time_d = vaso.loc[i,'time_d']\n",
    "    adm = vaso.loc[i, 'admissionid']\n",
    "    start = vaso.loc[i, 'start']\n",
    "    stop = vaso.loc[i, 'stop']\n",
    "    dose = vaso.loc[i, 'dose']\n",
    "    unit = vaso.loc[i, 'doseunit']\n",
    "    if 'Âµg' in unit:\n",
    "        pass\n",
    "    elif unit != \"mg\":\n",
    "        print(unit)\n",
    "    # print(type(start), type(stop), type(dose))\n",
    "    start_4h = int(start / 60 / 4)\n",
    "    stop_4h = int(stop/60/4)\n",
    "    if adm not in adm_time_vol_dict:\n",
    "        adm_time_vol_dict[adm] = dict()\n",
    "        for t in range(int(time_d / 60 / 4)):\n",
    "            adm_time_vol_dict[adm][t] = 0\n",
    "    for time_4h in range(start_4h, stop_4h + 1):\n",
    "        overlap_start = max(start, time_4h * 60 * 4)\n",
    "        overlap_end = min(stop, (time_4h + 1) * 60 * 4)\n",
    "        if overlap_end > overlap_start:\n",
    "            if time_4h not in adm_time_vol_dict[adm]:\n",
    "                adm_time_vol_dict[adm][time_4h] = 0\n",
    "            adm_time_vol_dict[adm][time_4h] += (overlap_end - overlap_start) / (stop - start) * dose / weight * 1000 / 60 / 4\n",
    "vs_list = [0, 0, 0, 0, 0]\n",
    "th = [0, 0.08, 0.22, 0.45]\n",
    "\n",
    "for k,vs in adm_time_vol_dict.items():\n",
    "    for t in range(max(vs.keys())):\n",
    "        if t not in vs:\n",
    "            adm_time_vol_dict[k][t] = 0\n",
    "for k,vs in adm_time_vol_dict.items():\n",
    "    for v in vs.values():\n",
    "        for i in range(4):\n",
    "            if v <= th[i]:\n",
    "                break\n",
    "            else:\n",
    "                i += 1\n",
    "        vs_list[i] += 1\n",
    "print([vs / sum(vs_list)  for vs in vs_list])\n",
    "        \n",
    "        \n",
    "    "
   ]
  },
  {
   "cell_type": "code",
   "execution_count": 3,
   "metadata": {},
   "outputs": [
    {
     "name": "stderr",
     "output_type": "stream",
     "text": [
      "100%|██████████| 583734/583734 [00:17<00:00, 32862.59it/s]\n"
     ]
    },
    {
     "name": "stdout",
     "output_type": "stream",
     "text": [
      "[0.7779028329871457, 0.02569796070051563, 0.09529295436295947, 0.06943970694609428, 0.03166654500328491]\n"
     ]
    }
   ],
   "source": [
    "vaso = pd.read_csv('feature/fluidin.csv')\n",
    "adm_time_vol_dict = dict()\n",
    "for i in tqdm(range(len(vaso))):\n",
    "    # print(vaso.loc[i, 'weightgroup'])\n",
    "    try:\n",
    "        if '110' in vaso.loc[i, 'weightgroup']:\n",
    "            weight = 115\n",
    "        else:\n",
    "            weight = int(vaso.loc[i, 'weightgroup'].split('-')[0]) + 5.0\n",
    "    except:\n",
    "        # print(vaso.loc[i, 'weightgroup'])\n",
    "        continue\n",
    "    time_d = vaso.loc[i,'time_d']\n",
    "    adm = vaso.loc[i, 'admissionid']\n",
    "    start = vaso.loc[i, 'start']\n",
    "    stop = vaso.loc[i, 'stop']\n",
    "    dose = vaso.loc[i, 'fluidin']\n",
    "    # print(type(start), type(stop), type(dose))\n",
    "    start_4h = int(start / 60 / 4)\n",
    "    stop_4h = int(stop/60/4)\n",
    "    if adm not in adm_time_vol_dict:\n",
    "        adm_time_vol_dict[adm] = dict()\n",
    "        for t in range(int(time_d / 60 / 4)):\n",
    "            adm_time_vol_dict[adm][t] = 0\n",
    "    for time_4h in range(start_4h, stop_4h + 1):\n",
    "        overlap_start = max(start, time_4h * 60 * 4)\n",
    "        overlap_end = min(stop, (time_4h + 1) * 60 * 4)\n",
    "        if overlap_end > overlap_start:\n",
    "            if time_4h not in adm_time_vol_dict[adm]:\n",
    "                adm_time_vol_dict[adm][time_4h] = 0\n",
    "            adm_time_vol_dict[adm][time_4h] += (overlap_end - overlap_start) / (stop - start) * dose  # / weight\n",
    "vs_list = [0, 0, 0, 0, 0]\n",
    "th = [0, 50, 180, 530]\n",
    "\n",
    "\n",
    "for k,vs in adm_time_vol_dict.items():\n",
    "    for t in range(max(vs.keys())):\n",
    "        if t not in vs:\n",
    "            adm_time_vol_dict[k][t] = 0\n",
    "for k,vs in adm_time_vol_dict.items():\n",
    "    for v in vs.values():\n",
    "        for i in range(4):\n",
    "            if v <= th[i]:\n",
    "                break\n",
    "            else:\n",
    "                i += 1\n",
    "        vs_list[i] += 1\n",
    "print([vs / sum(vs_list)  for vs in vs_list])\n",
    "        \n",
    "        \n",
    "    "
   ]
  },
  {
   "cell_type": "code",
   "execution_count": null,
   "metadata": {},
   "outputs": [],
   "source": []
  },
  {
   "cell_type": "code",
   "execution_count": null,
   "metadata": {},
   "outputs": [],
   "source": []
  }
 ],
 "metadata": {
  "kernelspec": {
   "display_name": "Python 3",
   "language": "python",
   "name": "python3"
  },
  "language_info": {
   "codemirror_mode": {
    "name": "ipython",
    "version": 3
   },
   "file_extension": ".py",
   "mimetype": "text/x-python",
   "name": "python",
   "nbconvert_exporter": "python",
   "pygments_lexer": "ipython3",
   "version": "3.8.5"
  }
 },
 "nbformat": 4,
 "nbformat_minor": 4
}
